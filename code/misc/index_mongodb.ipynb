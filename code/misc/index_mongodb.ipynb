{
 "cells": [
  {
   "cell_type": "code",
   "execution_count": 28,
   "metadata": {},
   "outputs": [],
   "source": [
    "import pymongo\n",
    "from pymongo import MongoClient\n",
    "from time import time"
   ]
  },
  {
   "cell_type": "code",
   "execution_count": 5,
   "metadata": {},
   "outputs": [],
   "source": [
    "client = MongoClient()"
   ]
  },
  {
   "cell_type": "code",
   "execution_count": 6,
   "metadata": {},
   "outputs": [],
   "source": [
    "# site = 'Stackoverflow'\n",
    "site = 'English'\n",
    "files = ['Badges','Users','Posts','Votes','Tags']"
   ]
  },
  {
   "cell_type": "code",
   "execution_count": 7,
   "metadata": {},
   "outputs": [],
   "source": [
    "db = client['stackexchange']"
   ]
  },
  {
   "cell_type": "code",
   "execution_count": 29,
   "metadata": {},
   "outputs": [
    {
     "name": "stdout",
     "output_type": "stream",
     "text": [
      "Id_1\n"
     ]
    }
   ],
   "source": [
    "result = db['EnglishPosts'].create_index([('Id', pymongo.ASCENDING)],unique=True)\n",
    "print(result)"
   ]
  },
  {
   "cell_type": "code",
   "execution_count": 38,
   "metadata": {},
   "outputs": [
    {
     "name": "stdout",
     "output_type": "stream",
     "text": [
      "{'_id': ObjectId('5eabfd2364d7d74199a9c193'), 'Id': '29376', 'PostTypeId': '1', 'CreationDate': '2011-06-10T13:48:57.490', 'Score': '12', 'ViewCount': '6742', 'Body': '<p>For example, \"wife\" is \"wives\" in plural, as is knife, strife, etc. What\\'s the reason and/or etymology behind this?</p>\\n', 'OwnerUserId': '9782', 'LastEditorUserId': '449', 'LastEditDate': '2011-06-10T14:30:31.450', 'LastActivityDate': '2014-08-06T08:46:23.313', 'Title': 'Why is \"f\" in a singular replaced with \"v\" in its plural?', 'Tags': '<grammatical-number>', 'AnswerCount': '1', 'CommentCount': '4', 'FavoriteCount': '1'}\n",
      "Found the post in  0.0032885074615478516 seconds\n"
     ]
    }
   ],
   "source": [
    "st = time()\n",
    "print(db['EnglishPosts'].find_one({'Id':'29376'}))\n",
    "print(\"Found the post in \",time()-st,\"seconds\")"
   ]
  }
 ],
 "metadata": {
  "kernelspec": {
   "display_name": "Python 3",
   "language": "python",
   "name": "python3"
  },
  "language_info": {
   "codemirror_mode": {
    "name": "ipython",
    "version": 3
   },
   "file_extension": ".py",
   "mimetype": "text/x-python",
   "name": "python",
   "nbconvert_exporter": "python",
   "pygments_lexer": "ipython3",
   "version": "3.6.1"
  }
 },
 "nbformat": 4,
 "nbformat_minor": 4
}
