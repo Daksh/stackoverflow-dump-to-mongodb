{
 "cells": [
  {
   "cell_type": "code",
   "execution_count": null,
   "metadata": {},
   "outputs": [],
   "source": [
    "from pymongo import MongoClient\n",
    "from time import time\n",
    "import xml.etree.ElementTree as ET\n",
    "import os"
   ]
  },
  {
   "cell_type": "code",
   "execution_count": 9,
   "metadata": {},
   "outputs": [],
   "source": [
    "client = MongoClient()"
   ]
  },
  {
   "cell_type": "code",
   "execution_count": 22,
   "metadata": {},
   "outputs": [],
   "source": [
    "site = 'Stackoverflow'"
   ]
  },
  {
   "cell_type": "code",
   "execution_count": 17,
   "metadata": {},
   "outputs": [],
   "source": [
    "dataPath = {'English':'../data/english.stackexchange.com', 'Math':'../data/math.stackexchange.com', 'Superuser':'../data/superuser.com', 'Stackoverflow':'../data/stackoverflow.com'}\n",
    "files = ['Badges','Users','Posts','Votes','Tags']"
   ]
  },
  {
   "cell_type": "code",
   "execution_count": 13,
   "metadata": {},
   "outputs": [
    {
     "data": {
      "text/plain": [
       "['admin',\n",
       " 'avinash_temp_db',\n",
       " 'cf_project',\n",
       " 'chetanAnimeAnnotation',\n",
       " 'chetanAnimeDataSplits',\n",
       " 'fnemo_development',\n",
       " 'gridfs_example',\n",
       " 'imgur_submissions',\n",
       " 'leak_damage',\n",
       " 'local',\n",
       " 'mobile_docs',\n",
       " 'project_n_1st_feb_2016',\n",
       " 'psosm',\n",
       " 'reddit_virality_data',\n",
       " 'test_db']"
      ]
     },
     "execution_count": 13,
     "metadata": {},
     "output_type": "execute_result"
    }
   ],
   "source": [
    "client.list_database_names()"
   ]
  },
  {
   "cell_type": "code",
   "execution_count": 14,
   "metadata": {},
   "outputs": [],
   "source": [
    "db = client['stackexchange']"
   ]
  },
  {
   "cell_type": "code",
   "execution_count": null,
   "metadata": {},
   "outputs": [
    {
     "name": "stdout",
     "output_type": "stream",
     "text": [
      "Processing file ../data/stackoverflow.com/Badges.xml\n"
     ]
    }
   ],
   "source": [
    "for file in files:\n",
    "    fn = file+'.xml'\n",
    "    print(\"Processing file\",os.path.join( dataPath[site], fn ))\n",
    "    collection = db[site+file]\n",
    "    \n",
    "    with open( os.path.join( dataPath[site], fn ) , \"r\", encoding='utf8') as f:\n",
    "        for line in f:\n",
    "            if 'row Id' in line:\n",
    "                doc = ET.fromstring(line)\n",
    "                entry = doc.attrib\n",
    "                collection.insert_one(entry)\n"
   ]
  },
  {
   "cell_type": "code",
   "execution_count": 20,
   "metadata": {},
   "outputs": [
    {
     "data": {
      "text/plain": [
       "{'_id': ObjectId('5eabfc0c64d7d74199a54f7a'),\n",
       " 'Id': '23229',\n",
       " 'Reputation': '101',\n",
       " 'CreationDate': '2012-07-07T03:07:10.700',\n",
       " 'DisplayName': 'Jonesinator',\n",
       " 'LastAccessDate': '2018-06-08T19:11:35.767',\n",
       " 'WebsiteUrl': 'http://jonesinator.com',\n",
       " 'Location': 'Littleton, CO, United States',\n",
       " 'Views': '0',\n",
       " 'UpVotes': '0',\n",
       " 'DownVotes': '0',\n",
       " 'ProfileImageUrl': 'https://i.stack.imgur.com/oXFHS.jpg?s=128&g=1',\n",
       " 'AccountId': '124'}"
      ]
     },
     "execution_count": 20,
     "metadata": {},
     "output_type": "execute_result"
    }
   ],
   "source": [
    "db['EnglishUsers'].find_one({'AccountId':'124'})"
   ]
  },
  {
   "cell_type": "code",
   "execution_count": 21,
   "metadata": {},
   "outputs": [
    {
     "data": {
      "text/plain": [
       "{'_id': ObjectId('5eabfd0864d7d74199a95cc9'),\n",
       " 'Id': '1',\n",
       " 'PostTypeId': '1',\n",
       " 'AcceptedAnswerId': '161',\n",
       " 'CreationDate': '2010-08-05T19:34:49.473',\n",
       " 'Score': '54',\n",
       " 'ViewCount': '158318',\n",
       " 'Body': '<p>When should I use <em>can</em>? When should I use <em>could</em>?<br>\\nWhat is right under what context?</p>\\n',\n",
       " 'OwnerUserId': '9',\n",
       " 'LastEditorUserId': '300',\n",
       " 'LastEditDate': '2013-01-24T22:00:48.513',\n",
       " 'LastActivityDate': '2015-06-12T21:02:26.507',\n",
       " 'Title': 'When do I use \"can\" or \"could\"?',\n",
       " 'Tags': '<word-choice><tenses><politeness><subjunctive-mood><can-could>',\n",
       " 'AnswerCount': '6',\n",
       " 'CommentCount': '7',\n",
       " 'FavoriteCount': '35'}"
      ]
     },
     "execution_count": 21,
     "metadata": {},
     "output_type": "execute_result"
    }
   ],
   "source": [
    "db['EnglishPosts'].find_one()"
   ]
  },
  {
   "cell_type": "code",
   "execution_count": null,
   "metadata": {},
   "outputs": [],
   "source": [
    "# db.student.find({},\n",
    "#  {_id:0, name:1, students:{$elemMatch:{$eq:ObjectId(\"51780f796ec4051a536015cf\")}}})"
   ]
  },
  {
   "cell_type": "markdown",
   "metadata": {},
   "source": [
    "## References \n",
    "\n",
    "1. https://pymongo.readthedocs.io/en/stable/tutorial.html"
   ]
  }
 ],
 "metadata": {
  "kernelspec": {
   "display_name": "Python 3",
   "language": "python",
   "name": "python3"
  },
  "language_info": {
   "codemirror_mode": {
    "name": "ipython",
    "version": 3
   },
   "file_extension": ".py",
   "mimetype": "text/x-python",
   "name": "python",
   "nbconvert_exporter": "python",
   "pygments_lexer": "ipython3",
   "version": "3.6.1"
  }
 },
 "nbformat": 4,
 "nbformat_minor": 4
}
